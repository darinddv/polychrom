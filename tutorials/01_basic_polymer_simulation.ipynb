{
 "cells": [
  {
   "cell_type": "markdown",
   "metadata": {
    "id": "polychrom_basic_tutorial"
   },
   "source": [
    "# Polychrom Tutorial: Basic Polymer Simulation\n",
    "\n",
    "[![Open In Colab](https://colab.research.google.com/assets/colab-badge.svg)](https://colab.research.google.com/github/darinddv/polychrom/blob/master/tutorials/01_basic_polymer_simulation.ipynb)\n",
    "\n",
    "Welcome to polychrom! This tutorial will guide you through creating your first polymer simulation using the polychrom library.\n",
    "\n",
    "**What you'll learn:**\n",
    "- How to install polychrom and its dependencies\n",
    "- Create a basic polymer simulation\n",
    "- Apply forces and run the simulation\n",
    "- Visualize and analyze results\n",
    "\n",
    "**About polychrom:**\n",
    "Polychrom is a powerful Python library for simulating polymer dynamics, specifically designed for modeling chromatin and chromosome organization. It's built on OpenMM's high-performance molecular dynamics engine."
   ]
  },
  {
   "cell_type": "markdown",
   "metadata": {
    "id": "installation"
   },
   "source": [
    "## 1. Installation\n",
    "\n",
    "First, let's install the required dependencies. In Google Colab, we need to install OpenMM and polychrom dependencies."
   ]
  },
  {
   "cell_type": "code",
   "execution_count": null,
   "metadata": {
    "id": "install_dependencies"
   },
   "outputs": [],
   "source": [
    "# Install conda and OpenMM (required for polychrom)\n",
    "!pip install -q condacolab\n",
    "import condacolab\n",
    "condacolab.install()\n",
    "\n",
    "# Install OpenMM via conda\n",
    "!conda install -c omnia openmm -y\n",
    "\n",
    "# Install polychrom dependencies\n",
    "!pip install numpy scipy h5py pandas joblib matplotlib\n",
    "\n",
    "# Clone and install polychrom\n",
    "!git clone https://github.com/darinddv/polychrom.git\n",
    "!cd polychrom && pip install -e ."
   ]
  },
  {
   "cell_type": "markdown",
   "metadata": {
    "id": "restart_runtime"
   },
   "source": [
    "**⚠️ Important:** After running the installation cell above, you need to **restart the runtime** in Google Colab.\n",
    "\n",
    "Go to `Runtime` → `Restart runtime` and then continue with the cells below."
   ]
  },
  {
   "cell_type": "markdown",
   "metadata": {
    "id": "imports"
   },
   "source": [
    "## 2. Import Libraries\n",
    "\n",
    "Let's import all the necessary libraries for our polymer simulation."
   ]
  },
  {
   "cell_type": "code",
   "execution_count": null,
   "metadata": {
    "id": "import_libraries"
   },
   "outputs": [],
   "source": [
    "import numpy as np\n",
    "import matplotlib.pyplot as plt\n",
    "import os\n",
    "import sys\n",
    "\n",
    "# Add polychrom to path if needed\n",
    "sys.path.append('/content/polychrom')\n",
    "\n",
    "# Import polychrom modules\n",
    "import polychrom\n",
    "from polychrom import forcekits, forces, simulation, starting_conformations\n",
    "from polychrom.hdf5_format import HDF5Reporter\n",
    "import polychrom.polymer_analyses\n",
    "\n",
    "print(f\"Successfully imported polychrom version: {polychrom.__version__ if hasattr(polychrom, '__version__') else 'unknown'}\")\n",
    "print(\"All imports successful!\")"
   ]
  },
  {
   "cell_type": "markdown",
   "metadata": {
    "id": "simulation_setup"
   },
   "source": [
    "## 3. Setting Up the Simulation\n",
    "\n",
    "Now let's create our first polymer simulation. We'll simulate a polymer chain with 500 monomers in spherical confinement."
   ]
  },
  {
   "cell_type": "code",
   "execution_count": null,
   "metadata": {
    "id": "simulation_parameters"
   },
   "outputs": [],
   "source": [
    "# Simulation parameters\n",
    "N = 500  # Number of monomers\n",
    "platform = \"CPU\"  # Use CPU platform for Colab compatibility\n",
    "integrator = \"variableLangevin\"\n",
    "temperature = 300  # Kelvin\n",
    "collision_rate = 0.01\n",
    "timestep = 170  # femtoseconds\n",
    "\n",
    "print(f\"Setting up simulation with {N} monomers\")\n",
    "print(f\"Platform: {platform}\")\n",
    "print(f\"Temperature: {temperature} K\")"
   ]
  },
  {
   "cell_type": "markdown",
   "metadata": {
    "id": "initial_conformation"
   },
   "source": [
    "## 4. Creating Initial Conformation\n",
    "\n",
    "We'll start with a cubic polymer conformation and then set up our simulation object."
   ]
  },
  {
   "cell_type": "code",
   "execution_count": null,
   "metadata": {
    "id": "create_initial_conf"
   },
   "outputs": [],
   "source": [
    "# Create initial polymer conformation\n",
    "polymer = starting_conformations.grow_cubic(N, boxSize=10)\n",
    "\n",
    "# Create output directory\n",
    "output_dir = \"polymer_simulation\"\n",
    "os.makedirs(output_dir, exist_ok=True)\n",
    "\n",
    "# Set up reporter for saving trajectory\n",
    "reporter = HDF5Reporter(folder=output_dir, max_data_length=50, overwrite=True)\n",
    "\n",
    "# Create simulation object\n",
    "sim = simulation.Simulation(\n",
    "    platform=platform,\n",
    "    integrator=integrator,\n",
    "    temperature=temperature,\n",
    "    collision_rate=collision_rate,\n",
    "    N=N,\n",
    "    reporters=[reporter]\n",
    ")\n",
    "\n",
    "print(f\"Initial polymer shape: {polymer.shape}\")\n",
    "print(\"Simulation object created successfully!\")"
   ]
  },
  {
   "cell_type": "markdown",
   "metadata": {
    "id": "set_conformation"
   },
   "source": [
    "## 5. Setting Initial Data and Adding Forces\n",
    "\n",
    "Now we'll set the initial polymer conformation and add the necessary forces."
   ]
  },
  {
   "cell_type": "code",
   "execution_count": null,
   "metadata": {
    "id": "set_data_forces"
   },
   "outputs": [],
   "source": [
    "# Set initial conformation\n",
    "sim.set_data(polymer, center=True)\n",
    "\n",
    "# Add polymer chain forces (bonds, angles, etc.)\n",
    "sim.add_force(forcekits.polymer_chains(sim))\n",
    "\n",
    "# Add spherical confinement\n",
    "sim.add_force(forces.spherical_confinement(sim, density=0.85, k=1.0))\n",
    "\n",
    "# Add excluded volume interactions\n",
    "sim.add_force(forces.polynomial_repulsive(sim, trunc=1.5, radiusMult=1.0))\n",
    "\n",
    "print(\"Forces added:\")\n",
    "print(\"- Polymer chain connectivity\")\n",
    "print(\"- Spherical confinement\")\n",
    "print(\"- Excluded volume interactions\")"
   ]
  },
  {
   "cell_type": "markdown",
   "metadata": {
    "id": "energy_minimization"
   },
   "source": [
    "## 6. Energy Minimization\n",
    "\n",
    "Before running the dynamics, let's minimize the energy to remove any bad contacts."
   ]
  },
  {
   "cell_type": "code",
   "execution_count": null,
   "metadata": {
    "id": "minimize_energy"
   },
   "outputs": [],
   "source": [
    "# Run energy minimization\n",
    "sim.local_energy_minimization()\n",
    "print(\"Energy minimization completed!\")\n",
    "\n",
    "# Get initial energies\n",
    "eK, eP = sim.get_energy()\n",
    "print(f\"Initial kinetic energy: {eK:.2f}\")\n",
    "print(f\"Initial potential energy: {eP:.2f}\")"
   ]
  },
  {
   "cell_type": "markdown",
   "metadata": {
    "id": "run_simulation"
   },
   "source": [
    "## 7. Running the Simulation\n",
    "\n",
    "Now let's run the actual molecular dynamics simulation!"
   ]
  },
  {
   "cell_type": "code",
   "execution_count": null,
   "metadata": {
    "id": "md_simulation"
   },
   "outputs": [],
   "source": [
    "# Run simulation blocks\n",
    "num_blocks = 10\n",
    "steps_per_block = 1000\n",
    "\n",
    "print(f\"Running {num_blocks} blocks of {steps_per_block} steps each...\")\n",
    "\n",
    "energies = []\n",
    "for i in range(num_blocks):\n",
    "    # Run one block\n",
    "    sim.do_block(steps_per_block)\n",
    "    \n",
    "    # Get current energies\n",
    "    eK, eP = sim.get_energy()\n",
    "    energies.append((eK, eP))\n",
    "    \n",
    "    if (i + 1) % 2 == 0:\n",
    "        print(f\"Block {i+1}/{num_blocks}: Ek={eK:.2f}, Ep={eP:.2f}\")\n",
    "\n",
    "print(\"Simulation completed!\")\n",
    "\n",
    "# Save final trajectory\n",
    "reporter.dump_data()\n",
    "print(\"Trajectory saved to HDF5 files\")"
   ]
  },
  {
   "cell_type": "markdown",
   "metadata": {
    "id": "analysis"
   },
   "source": [
    "## 8. Analysis and Visualization\n",
    "\n",
    "Let's analyze our simulation results and create some visualizations."
   ]
  },
  {
   "cell_type": "code",
   "execution_count": null,
   "metadata": {
    "id": "energy_plot"
   },
   "outputs": [],
   "source": [
    "# Plot energy evolution\n",
    "energies = np.array(energies)\n",
    "blocks = np.arange(1, num_blocks + 1)\n",
    "\n",
    "plt.figure(figsize=(12, 4))\n",
    "\n",
    "plt.subplot(1, 2, 1)\n",
    "plt.plot(blocks, energies[:, 0], 'o-', label='Kinetic Energy')\n",
    "plt.plot(blocks, energies[:, 1], 'o-', label='Potential Energy')\n",
    "plt.xlabel('Block')\n",
    "plt.ylabel('Energy')\n",
    "plt.title('Energy Evolution')\n",
    "plt.legend()\n",
    "plt.grid(True, alpha=0.3)\n",
    "\n",
    "plt.subplot(1, 2, 2)\n",
    "plt.plot(blocks, energies[:, 0] + energies[:, 1], 'o-', color='red')\n",
    "plt.xlabel('Block')\n",
    "plt.ylabel('Total Energy')\n",
    "plt.title('Total Energy')\n",
    "plt.grid(True, alpha=0.3)\n",
    "\n",
    "plt.tight_layout()\n",
    "plt.show()"
   ]
  },
  {
   "cell_type": "code",
   "execution_count": null,
   "metadata": {
    "id": "polymer_visualization"
   },
   "outputs": [],
   "source": [
    "# Get final polymer conformation\n",
    "final_coords = sim.get_data()\n",
    "\n",
    "# Calculate radius of gyration\n",
    "rg = polychrom.polymer_analyses.radius_of_gyration(final_coords)\n",
    "print(f\"Final radius of gyration: {rg:.2f}\")\n",
    "\n",
    "# Visualize the polymer\n",
    "fig = plt.figure(figsize=(15, 5))\n",
    "\n",
    "# 3D visualization\n",
    "ax1 = fig.add_subplot(131, projection='3d')\n",
    "ax1.plot(final_coords[:, 0], final_coords[:, 1], final_coords[:, 2], 'b-', alpha=0.7, linewidth=1)\n",
    "ax1.scatter(final_coords[0, 0], final_coords[0, 1], final_coords[0, 2], color='green', s=50, label='Start')\n",
    "ax1.scatter(final_coords[-1, 0], final_coords[-1, 1], final_coords[-1, 2], color='red', s=50, label='End')\n",
    "ax1.set_title('3D Polymer Conformation')\n",
    "ax1.set_xlabel('X')\n",
    "ax1.set_ylabel('Y')\n",
    "ax1.set_zlabel('Z')\n",
    "ax1.legend()\n",
    "\n",
    "# XY projection\n",
    "ax2 = fig.add_subplot(132)\n",
    "ax2.plot(final_coords[:, 0], final_coords[:, 1], 'b-', alpha=0.7, linewidth=1)\n",
    "ax2.scatter(final_coords[0, 0], final_coords[0, 1], color='green', s=50, label='Start')\n",
    "ax2.scatter(final_coords[-1, 0], final_coords[-1, 1], color='red', s=50, label='End')\n",
    "ax2.set_title('XY Projection')\n",
    "ax2.set_xlabel('X')\n",
    "ax2.set_ylabel('Y')\n",
    "ax2.legend()\n",
    "ax2.grid(True, alpha=0.3)\n",
    "ax2.set_aspect('equal')\n",
    "\n",
    "# Distance from center\n",
    "ax3 = fig.add_subplot(133)\n",
    "center = np.mean(final_coords, axis=0)\n",
    "distances = np.linalg.norm(final_coords - center, axis=1)\n",
    "ax3.plot(distances, 'b-', alpha=0.7)\n",
    "ax3.set_title('Distance from Center')\n",
    "ax3.set_xlabel('Monomer Index')\n",
    "ax3.set_ylabel('Distance')\n",
    "ax3.grid(True, alpha=0.3)\n",
    "\n",
    "plt.tight_layout()\n",
    "plt.show()\n",
    "\n",
    "print(f\"\\nPolymer statistics:\")\n",
    "print(f\"Number of monomers: {len(final_coords)}\")\n",
    "print(f\"Radius of gyration: {rg:.2f}\")\n",
    "print(f\"End-to-end distance: {np.linalg.norm(final_coords[-1] - final_coords[0]):.2f}\")\n",
    "print(f\"Maximum distance from center: {np.max(distances):.2f}\")"
   ]
  },
  {
   "cell_type": "markdown",
   "metadata": {
    "id": "contact_map"
   },
   "source": [
    "## 9. Contact Map Analysis\n",
    "\n",
    "Let's create a contact map to visualize spatial interactions in the polymer."
   ]
  },
  {
   "cell_type": "code",
   "execution_count": null,
   "metadata": {
    "id": "contact_analysis"
   },
   "outputs": [],
   "source": [
    "# Calculate contact map\n",
    "def calculate_contact_map(coords, cutoff=2.0):\n",
    "    \"\"\"Calculate contact map with given cutoff distance\"\"\"\n",
    "    n = len(coords)\n",
    "    contact_map = np.zeros((n, n))\n",
    "    \n",
    "    for i in range(n):\n",
    "        for j in range(i+1, n):\n",
    "            dist = np.linalg.norm(coords[i] - coords[j])\n",
    "            if dist < cutoff:\n",
    "                contact_map[i, j] = 1\n",
    "                contact_map[j, i] = 1\n",
    "    \n",
    "    return contact_map\n",
    "\n",
    "# Create contact map\n",
    "contact_map = calculate_contact_map(final_coords, cutoff=2.0)\n",
    "\n",
    "# Visualize contact map\n",
    "plt.figure(figsize=(10, 8))\n",
    "plt.imshow(contact_map, cmap='Reds', origin='lower')\n",
    "plt.colorbar(label='Contact (1=contact, 0=no contact)')\n",
    "plt.title('Polymer Contact Map')\n",
    "plt.xlabel('Monomer Index')\n",
    "plt.ylabel('Monomer Index')\n",
    "\n",
    "# Add diagonal lines to highlight structure\n",
    "plt.plot([0, N], [0, N], 'k--', alpha=0.5, linewidth=0.5)\n",
    "\n",
    "plt.show()\n",
    "\n",
    "# Calculate contact statistics\n",
    "total_contacts = np.sum(contact_map) // 2  # Divide by 2 because matrix is symmetric\n",
    "contact_density = total_contacts / (N * (N-1) / 2)\n",
    "\n",
    "print(f\"Total contacts (within 2.0 units): {total_contacts}\")\n",
    "print(f\"Contact density: {contact_density:.4f}\")"
   ]
  },
  {
   "cell_type": "markdown",
   "metadata": {
    "id": "conclusion"
   },
   "source": [
    "## 10. Conclusion\n",
    "\n",
    "Congratulations! You've successfully:\n",
    "\n",
    "✅ **Set up a polychrom simulation** with a 500-monomer polymer\n",
    "\n",
    "✅ **Applied realistic forces** including chain connectivity, confinement, and excluded volume\n",
    "\n",
    "✅ **Run molecular dynamics** simulation and monitored energy evolution\n",
    "\n",
    "✅ **Analyzed results** with visualization and contact maps\n",
    "\n",
    "### Next Steps\n",
    "\n",
    "Now that you understand the basics, you can:\n",
    "\n",
    "1. **Explore different forces** - Try different confinement geometries or interaction potentials\n",
    "2. **Longer simulations** - Run more blocks to see equilibration\n",
    "3. **Different polymers** - Try ring polymers or multi-chain systems\n",
    "4. **Loop extrusion** - Move on to the loop extrusion tutorial\n",
    "5. **Real chromatin modeling** - Apply polychrom to biological systems\n",
    "\n",
    "### Learn More\n",
    "\n",
    "- 📖 [Full Documentation](https://polychrom.readthedocs.io/)\n",
    "- 🧬 [Loop Extrusion Tutorial](https://colab.research.google.com/github/darinddv/polychrom/blob/master/tutorials/02_loop_extrusion_simulation.ipynb)\n",
    "- 📊 [Contact Map Analysis Tutorial](https://colab.research.google.com/github/darinddv/polychrom/blob/master/tutorials/03_contact_map_analysis.ipynb)\n",
    "- 💻 [GitHub Repository](https://github.com/darinddv/polychrom)\n",
    "\n",
    "### Questions or Issues?\n",
    "\n",
    "If you encounter any problems or have questions:\n",
    "- Check the [documentation](https://polychrom.readthedocs.io/)\n",
    "- Look at more [examples](https://github.com/darinddv/polychrom/tree/master/examples)\n",
    "- Open an issue on [GitHub](https://github.com/darinddv/polychrom/issues)"
   ]
  }
 ],
 "metadata": {
  "colab": {
   "provenance": [],
   "collapsed_sections": []
  },
  "kernelspec": {
   "display_name": "Python 3",
   "language": "python",
   "name": "python3"
  },
  "language_info": {
   "codemirror_mode": {
    "name": "ipython",
    "version": 3
   },
   "file_extension": ".py",
   "mimetype": "text/x-python",
   "name": "python",
   "nbconvert_exporter": "python",
   "pygments_lexer": "ipython3",
   "version": "3.8.5"
  }
 },
 "nbformat": 4,
 "nbformat_minor": 4
}